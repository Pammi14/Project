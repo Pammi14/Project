{
 "cells": [
  {
   "cell_type": "markdown",
   "metadata": {},
   "source": [
    "## Introduction\n",
    "New York is often considered one of the greatest cultural hubs in the country, having welcomed immigrants long before the days of Ellis Island. Immigrants now account for one-fifth of the state’s total population and make up a staggering 25 percent of its labor force. As workers, business owners, taxpayers, and neighbors, immigrants are an integral part of New York’s diverse and thriving communities and make extensive contributions that benefit all. The safety of New York City is not the only factor that attracts undocumented Mexican immigrants. New York City’s economy relies heavily on cheap labor provided by Mexican immigrants. Often, these immigrants are willing to take the dirty, low-paying jobs others will not. In the decades leading up to the 1970s, women, blacks and the youth population filled these jobs. However, as education levels have risen, these jobs have been opened up for Mexican immigrants.\n",
    "\n",
    "Throughout its history, New York City has been a major point of entry for immigrants; the term \"melting pot\" was coined to describe densely populated immigrant neighborhoods on the Lower East Side. As many as 800 languages are spoken in New York, making it the most linguistically diverse city in the world. English remains the most widely spoken language, although there are areas in the outer boroughs in which up to 25% of people speak English as an alternate language, and/or have limited or no English language fluency. English is least spoken in neighborhoods such as Flushing, Sunset Park, and Corona.\n",
    "\n",
    "With it's diverse culture , comes diverse food items. There are many resturants in New york City, each beloning to different categories like Chinese , Indian , Mexican, Italian, French etc.\n",
    "\n",
    " As so many Mexican immigrants exist in New York, opening a Mexican restaurant is a good business proposition. So as part of this project , we will list and visualize all major parts of New York City that has great Mexican resturants. Mexican food is popular because it's full of flavor. The Mexican dishes include healthy and fresh ingredients like avocados, beans, chilis, tomatoes and other vegetables, and different types of meat like beef, chicken, pork, and fish even rabbit, lamb, among others used in tacos, tamales or soups"
   ]
  },
  {
   "cell_type": "markdown",
   "metadata": {},
   "source": [
    "## Data\n",
    "Data For this project we need the following data :\n",
    "New York City data that contains list Boroughs, Neighborhoods along with their latitude and longitude. Data source : https://cocl.us/new_york_dataset Description : This data set contains the required information. And we will use this data set to explore various neighborhoods of new york city. Mexican resturants are in each neighborhood of new york city. Data source : Fousquare API Description : By using this api we will get all the venues in each neighborhood. \n",
    "### Approach\n",
    "1. Collect the new york city data from https://cocl.us/new_york_dataset\n",
    "2. Using FourSquare API we will find all venues for each neighborhood.\n",
    "3. Filter out all venues that are Mexican Resturants.\n",
    "4. Find rating , tips and like count for each Mexican Resturants using FourSquare API.\n",
    "5. Using rating for each resturant , we will sort that data.\n",
    "6. Visualize the Ranking of neighborhoods using folium library(python)\n",
    "### Queries that can be answered using above dataset\n",
    "1. What is best location in New York City for Mexican Cuisine ?\n",
    "2. Which areas have potential Mexican Resturant Market ?\n",
    "3. Which all areas lack Mexican Resturants ?\n",
    "4. Which is the best place to stay if I prefer Mexican Cuisine ?"
   ]
  },
  {
   "cell_type": "code",
   "execution_count": null,
   "metadata": {},
   "outputs": [],
   "source": []
  }
 ],
 "metadata": {
  "kernelspec": {
   "display_name": "Python",
   "language": "python",
   "name": "conda-env-python-py"
  },
  "language_info": {
   "codemirror_mode": {
    "name": "ipython",
    "version": 3
   },
   "file_extension": ".py",
   "mimetype": "text/x-python",
   "name": "python",
   "nbconvert_exporter": "python",
   "pygments_lexer": "ipython3",
   "version": "3.6.10"
  }
 },
 "nbformat": 4,
 "nbformat_minor": 4
}
